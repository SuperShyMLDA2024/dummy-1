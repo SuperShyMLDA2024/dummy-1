{
 "cells": [
  {
   "cell_type": "code",
   "execution_count": 1,
   "metadata": {},
   "outputs": [],
   "source": [
    "import json\n",
    "with open('../metafiles/hdvg_0.json', 'r') as f:\n",
    "    video_info = json.load(f)"
   ]
  },
  {
   "cell_type": "code",
   "execution_count": 2,
   "metadata": {},
   "outputs": [
    {
     "name": "stdout",
     "output_type": "stream",
     "text": [
      "18750\n"
     ]
    }
   ],
   "source": [
    "print(len(video_info))"
   ]
  },
  {
   "cell_type": "code",
   "execution_count": 3,
   "metadata": {},
   "outputs": [
    {
     "name": "stdout",
     "output_type": "stream",
     "text": [
      "560755\n"
     ]
    }
   ],
   "source": [
    "no_clips = 0\n",
    "for video_id in video_info:\n",
    "    no_clips += len(video_info[video_id]['clip'])\n",
    "print(no_clips)"
   ]
  },
  {
   "cell_type": "code",
   "execution_count": 4,
   "metadata": {},
   "outputs": [
    {
     "name": "stdout",
     "output_type": "stream",
     "text": [
      "1504248\n"
     ]
    }
   ],
   "source": [
    "no_scenes = 0\n",
    "for video_id in video_info:\n",
    "    for clip_id in video_info[video_id]['clip']:\n",
    "        no_scenes += len(video_info[video_id]['clip'][clip_id]['scene_split'])\n",
    "print(no_scenes)"
   ]
  },
  {
   "cell_type": "code",
   "execution_count": null,
   "metadata": {},
   "outputs": [],
   "source": []
  }
 ],
 "metadata": {
  "kernelspec": {
   "display_name": "mlda",
   "language": "python",
   "name": "python3"
  },
  "language_info": {
   "codemirror_mode": {
    "name": "ipython",
    "version": 3
   },
   "file_extension": ".py",
   "mimetype": "text/x-python",
   "name": "python",
   "nbconvert_exporter": "python",
   "pygments_lexer": "ipython3",
   "version": "3.9.18"
  }
 },
 "nbformat": 4,
 "nbformat_minor": 2
}
