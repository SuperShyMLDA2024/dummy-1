{
 "cells": [
  {
   "cell_type": "code",
   "execution_count": null,
   "metadata": {},
   "outputs": [],
   "source": [
    "import cv2\n",
    "from IPython.display import display\n",
    "import random\n",
    "\n",
    "def display_video(video_path):\n",
    "    # Display the video in a separate window popup\n",
    "    cap = cv2.VideoCapture(video_path)\n",
    "    while cap.isOpened():\n",
    "        ret, frame = cap.read()\n",
    "        if not ret:\n",
    "            break\n",
    "\n",
    "        # Display the frame in a separate window\n",
    "        cv2.imshow('Video', frame)\n",
    "\n",
    "        if cv2.waitKey(1) & 0xFF == ord('q'):\n",
    "            break\n",
    "\n",
    "    cap.release()\n",
    "    cv2.destroyAllWindows()\n",
    "\n",
    "def annotate_videos(dataset, annotation_dict):\n",
    "    labels = []\n",
    "    print(len(dataset))\n",
    "\n",
    "    no_clips = min(len(dataset), 3)\n",
    "    ids = random.sample(range(len(dataset)), no_clips)\n",
    "    \n",
    "    for id in ids:\n",
    "        video_sample = dataset[id]\n",
    "        video_path = video_sample[\"video_path\"]\n",
    "        frames_path = video_sample[\"frames_path\"]\n",
    "        print(f\"video: {frames_path}\")\n",
    "        \n",
    "        # Display the video in a separate window popup\n",
    "        display_video(video_path)\n",
    "        \n",
    "        # Get user input for label\n",
    "        label = input(\"Enter the label for this video clip (0 or 1) (or 'q' to quit): \")\n",
    "        while label != '0' and label != '1' and label != 'q':\n",
    "            print(\"Invalid label. Please enter 0 or 1.\")\n",
    "            display_video(video_path)\n",
    "            label = input(\"Enter the label for this video clip (0 or 1) (or 'q' to quit): \")\n",
    "        \n",
    "        # Save the label and video file name to dataset\n",
    "        if label != 'q':\n",
    "            annotation_dict[frames_path] = int(label)\n",
    "            labels.append(label)\n",
    "        else:\n",
    "            break\n",
    "    \n",
    "    return labels, annotation_dict"
   ]
  },
  {
   "cell_type": "code",
   "execution_count": null,
   "metadata": {},
   "outputs": [],
   "source": [
    "from utils.dataset_class_batch import VideoDataset\n",
    "import json\n",
    "\n",
    "with open(\"metafiles/hdvg_0.json\", 'r') as f:\n",
    "    data = json.load(f)\n",
    "print(\"Data loaded\")\n",
    "\n",
    "total = 0\n",
    "annotation_dict = {}\n",
    "for idx in range(0,101,1):\n",
    "    dataset = VideoDataset(data, idx, idx)\n",
    "    labels, annotation_dict = annotate_videos(dataset, annotation_dict)\n",
    "    total += len(labels)\n",
    "    print(labels)\n",
    "\n",
    "print(annotation_dict)"
   ]
  },
  {
   "cell_type": "code",
   "execution_count": null,
   "metadata": {},
   "outputs": [],
   "source": [
    "# Save the annotation dictionary to a json\n",
    "import json\n",
    "with open('annotations.json', 'w') as f:\n",
    "    json.dump(annotation_dict, f)"
   ]
  },
  {
   "cell_type": "code",
   "execution_count": null,
   "metadata": {},
   "outputs": [],
   "source": []
  }
 ],
 "metadata": {
  "kernelspec": {
   "display_name": "mlda",
   "language": "python",
   "name": "python3"
  },
  "language_info": {
   "codemirror_mode": {
    "name": "ipython",
    "version": 3
   },
   "file_extension": ".py",
   "mimetype": "text/x-python",
   "name": "python",
   "nbconvert_exporter": "python",
   "pygments_lexer": "ipython3",
   "version": "3.9.18"
  }
 },
 "nbformat": 4,
 "nbformat_minor": 2
}
