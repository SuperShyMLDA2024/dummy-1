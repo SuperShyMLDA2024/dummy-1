{
 "cells": [
  {
   "cell_type": "code",
   "execution_count": 11,
   "metadata": {},
   "outputs": [],
   "source": [
    "import xgboost as xgb\n",
    "from sklearn.model_selection import train_test_split\n",
    "from sklearn.metrics import accuracy_score"
   ]
  },
  {
   "cell_type": "code",
   "execution_count": 7,
   "metadata": {},
   "outputs": [],
   "source": [
    "from utils.image_to_embedding import get_image_to_embedding\n",
    "from utils.static_check import get_static_difference\n",
    "from utils.optical_flow_check import get_optical_flow\n",
    "from diffusers import AutoencoderKL\n",
    "import torch\n",
    "\n",
    "import cv2\n",
    "import numpy as np\n",
    "from PIL import Image\n",
    "import os\n",
    "from torchvision import transforms\n",
    "\n",
    "def image_transform(image):\n",
    "    transform = transforms.Compose([\n",
    "        transforms.Resize((320, 240)),\n",
    "        transforms.CenterCrop(240),\n",
    "        transforms.ToTensor(),  \n",
    "    ])\n",
    "    return transform(image).unsqueeze(0)\n",
    "\n",
    "def load_image(folder_path):\n",
    "    # Sort the frames\n",
    "    frames = sorted(os.listdir(folder_path))\n",
    "    conv_frames = []\n",
    "    \n",
    "    # Convert the frames to tensor\n",
    "    for frame in frames:\n",
    "        image = Image.open(os.path.join(folder_path, frame)).convert('RGB')\n",
    "        image = image_transform(image)\n",
    "        conv_frames.append(image)\n",
    "    return conv_frames\n",
    "\n",
    "def get_model():\n",
    "    model = AutoencoderKL.from_pretrained(\"stabilityai/sdxl-vae\")\n",
    "    return model\n",
    "\n",
    "def get_inference(folder_path, model, device):\n",
    "    frames = load_image(folder_path)\n",
    "\n",
    "    # Getting static difference\n",
    "    rgb_diff = get_static_difference(frames)\n",
    "\n",
    "    # getting optical flow\n",
    "    avg_velocity = get_optical_flow(frames)\n",
    "    \n",
    "    # Getting image context similarity\n",
    "    frame_mse, frame_cos_sim = get_image_to_embedding(frames, model, device)\n",
    "\n",
    "    return rgb_diff, avg_velocity, frame_mse, frame_cos_sim"
   ]
  },
  {
   "cell_type": "code",
   "execution_count": 8,
   "metadata": {},
   "outputs": [],
   "source": [
    "rgb_diffs = []\n",
    "gpb_diffs = []\n",
    "avg_velocities = []\n",
    "frame_mses = []\n",
    "frame_cos_sims = []\n",
    "labels = []"
   ]
  },
  {
   "cell_type": "code",
   "execution_count": 9,
   "metadata": {},
   "outputs": [],
   "source": [
    "# Load from JV's Dataset\n",
    "\n",
    "labeled_data = {\n",
    "    \"frames_output\\\\44ot5_2UaaU\\\\44ot5_2UaaU.4_7\": 1,\n",
    "    \"frames_output\\\\44ot5_2UaaU\\\\44ot5_2UaaU.15_0\": 0,\n",
    "    \"frames_output\\\\44ot5_2UaaU\\\\44ot5_2UaaU.4_1\": 0,\n",
    "    \"frames_output\\\\1NRXqc74kQM\\\\1NRXqc74kQM.8_3\": 1\n",
    "}"
   ]
  },
  {
   "cell_type": "code",
   "execution_count": null,
   "metadata": {},
   "outputs": [],
   "source": [
    "device = \"cuda\" if torch.cuda.is_available() else \"cpu\"\n",
    "model = get_model().to(device)\n",
    "\n",
    "for i, path in enumerate(labeled_data.keys()):\n",
    "    rgb_diff, avg_velocity, frame_mse, frame_cos_sim = get_inference(path, model, device)\n",
    "    gpb_diffs.append(rgb_diff)\n",
    "    avg_velocities.append(avg_velocity)\n",
    "    frame_mses.append(frame_mse)\n",
    "    frame_cos_sims.append(frame_cos_sim)\n",
    "    labels.append(labeled_data[path])\n",
    "    print(f'Enumerated {i+1} paths')"
   ]
  },
  {
   "cell_type": "code",
   "execution_count": null,
   "metadata": {},
   "outputs": [],
   "source": [
    "import pandas as pd\n",
    "\n",
    "dataset = pd.DataFrame({\n",
    "    \"rgb_diff\": gpb_diffs,\n",
    "    \"avg_velocity\": avg_velocities,\n",
    "    \"frame_mse\": frame_mses,\n",
    "    \"frame_cos_sim\": frame_cos_sims,\n",
    "    \"label\": labels\n",
    "})"
   ]
  },
  {
   "cell_type": "code",
   "execution_count": null,
   "metadata": {},
   "outputs": [],
   "source": [
    "X = dataset.drop(columns=[\"label\"])\n",
    "y = dataset[\"label\"]"
   ]
  },
  {
   "cell_type": "code",
   "execution_count": null,
   "metadata": {},
   "outputs": [],
   "source": [
    "# Splitting the data into training and testing sets\n",
    "X_train, X_test, y_train, y_test = train_test_split(X, y, test_size=0.2, random_state=42)\n",
    "\n",
    "# Creating an XGBoost classifier\n",
    "model = xgb.XGBClassifier()\n",
    "\n",
    "# Training the model\n",
    "model.fit(X_train, y_train)\n",
    "\n",
    "# Making predictions on the test set\n",
    "y_pred = model.predict(X_test)\n",
    "\n",
    "# Evaluating the model\n",
    "accuracy = accuracy_score(y_test, y_pred)\n",
    "print(\"Accuracy:\", accuracy)"
   ]
  },
  {
   "cell_type": "code",
   "execution_count": null,
   "metadata": {},
   "outputs": [],
   "source": [
    "import pickle\n",
    "\n",
    "# Save the trained model to a file\n",
    "filename = 'xgboost_model.pth'\n",
    "pickle.dump(model, open(filename, 'wb'))"
   ]
  },
  {
   "cell_type": "code",
   "execution_count": null,
   "metadata": {},
   "outputs": [],
   "source": [
    "# TO TEST LOADING THE SAVED MODEL\n",
    "\n",
    "# Load the saved model from file\n",
    "classifier_model = pickle.load(open(filename, 'rb'))\n",
    "\n",
    "# Use the loaded model for predictions\n",
    "y_pred_loaded = classifier_model.predict(X_test)\n",
    "\n",
    "# Evaluate the loaded model\n",
    "accuracy_loaded = accuracy_score(y_test, y_pred_loaded)\n",
    "print(\"Accuracy of loaded model:\", accuracy_loaded)"
   ]
  },
  {
   "cell_type": "code",
   "execution_count": null,
   "metadata": {},
   "outputs": [],
   "source": []
  }
 ],
 "metadata": {
  "kernelspec": {
   "display_name": "mlda",
   "language": "python",
   "name": "python3"
  },
  "language_info": {
   "codemirror_mode": {
    "name": "ipython",
    "version": 3
   },
   "file_extension": ".py",
   "mimetype": "text/x-python",
   "name": "python",
   "nbconvert_exporter": "python",
   "pygments_lexer": "ipython3",
   "version": "3.9.18"
  }
 },
 "nbformat": 4,
 "nbformat_minor": 2
}
